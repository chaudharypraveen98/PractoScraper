{
 "cells": [
  {
   "cell_type": "code",
   "execution_count": 1,
   "metadata": {},
   "outputs": [],
   "source": [
    "import time\n",
    "import pandas as pd\n",
    "from selenium import webdriver\n",
    "from selenium.webdriver.chrome.options import Options\n",
    "from selenium.common.exceptions import NoSuchElementException,ElementNotInteractableException\n",
    "from selenium.webdriver.common.keys import Keys\n",
    "from urllib.parse import urlencode"
   ]
  },
  {
   "cell_type": "code",
   "execution_count": 2,
   "metadata": {},
   "outputs": [],
   "source": [
    "base_url=\"https://www.practo.com/health-checkup-packages/\""
   ]
  },
  {
   "cell_type": "code",
   "execution_count": 3,
   "metadata": {},
   "outputs": [],
   "source": [
    "chromeOptions = webdriver.ChromeOptions()\n",
    "prefs={'disk-cache-size': 4096 }\n",
    "chromeOptions.add_experimental_option('prefs', prefs)\n",
    "browser = webdriver.Chrome(options=chromeOptions)"
   ]
  },
  {
   "cell_type": "code",
   "execution_count": 4,
   "metadata": {},
   "outputs": [],
   "source": [
    "def search(location=\"Delhi\",category=\"diabetes-checkup\"):\n",
    "    print(\"requesting webpage\")\n",
    "    paramenter={\n",
    "        \"city\":location\n",
    "    }\n",
    "    encoded_parameter=urlencode(paramenter)\n",
    "    final_url=f\"{base_url}{category}?{encoded_parameter}\"\n",
    "    browser.get(final_url)\n",
    "    print(\"webpage opened\")"
   ]
  },
  {
   "cell_type": "code",
   "execution_count": 38,
   "metadata": {},
   "outputs": [],
   "source": [
    "def extract_packages():\n",
    "    packages=[]\n",
    "    packages_section=browser.find_elements_by_css_selector('div[id=\"packages\"]>div')\n",
    "    for package in packages_section:\n",
    "        package_title = package.find_element_by_css_selector(\".c-package__title-box h3\").text\n",
    "        package_desc = package.find_element_by_css_selector(\".c-package__title-box p\").text\n",
    "        package_tests = package.find_element_by_css_selector(\".c-package__tests-details\").text\n",
    "        package_offer_price = package.find_element_by_css_selector(\".c-package__price>span\").text\n",
    "        package_mrp_price = package.find_element_by_css_selector(\".c-package__price>s\").text\n",
    "        package_price_discount = package.find_element_by_css_selector(\".c-package__price>span:nth-of-type(2)\").text\n",
    "        package_detail={\n",
    "            \"package_title\":package_title,\n",
    "            \"package_desc\":package_desc,\n",
    "            \"package_tests\":package_tests,\n",
    "            \"package_offer_price\":package_offer_price,\n",
    "            \"package_mrp_price\":package_mrp_price,\n",
    "            \"package_price_discount\":package_price_discount,\n",
    "        }\n",
    "        packages.append(package_detail)\n",
    "    return packages"
   ]
  },
  {
   "cell_type": "code",
   "execution_count": 44,
   "metadata": {},
   "outputs": [],
   "source": [
    "def click_and_collect_data():\n",
    "    hidden_test_details=[]\n",
    "    hidden_test_details+=scrape_hidden_test(no_of_test=6)\n",
    "    i=0\n",
    "    while True:\n",
    "        try:\n",
    "            # clicking next button\n",
    "            browser.find_element_by_css_selector(\".slick-next\").click()\n",
    "            time.sleep(1)\n",
    "            if i>=6:                \n",
    "                print(\"extracting_data\")\n",
    "                hidden_test_details+=scrape_hidden_test()\n",
    "                i=0            \n",
    "            i+=1\n",
    "        except ElementNotInteractableException:\n",
    "            if i!=0:\n",
    "                hidden_test_details+=scrape_hidden_test(no_of_test=i)\n",
    "            break    \n",
    "    return hidden_test_details\n",
    "            "
   ]
  },
  {
   "cell_type": "code",
   "execution_count": 45,
   "metadata": {},
   "outputs": [],
   "source": [
    "def scrape_hidden_test(no_of_test=6):\n",
    "    details=[]\n",
    "    hidden_tests=browser.find_elements_by_css_selector(\"div[class='slick-track'] .slick-active a\")\n",
    "    for test in hidden_tests[6-no_of_test:6]:\n",
    "        test_data=test.text.split(\"\\n\")\n",
    "        details.append({\n",
    "            \"test_title\":test_data[0],\n",
    "\n",
    "            \"test_desc\":test_data[1],\n",
    "            \"test_price\":test_data[2]\n",
    "        }) \n",
    "    return details"
   ]
  },
  {
   "cell_type": "code",
   "execution_count": 46,
   "metadata": {},
   "outputs": [],
   "source": [
    "search(location=\"Delhi\",category=\"diabetes-checkup\")\n",
    "test_result= click_and_collect_data()\n",
    "package_result = extract_packages()"
   ]
  },
  {
   "cell_type": "code",
   "execution_count": 47,
   "metadata": {},
   "outputs": [
    {
     "data": {
      "text/plain": [
       "[{'test_title': 'HbA1c',\n",
       "  'test_desc': 'Known as Glycosylated Haemoglobin Blood',\n",
       "  'test_price': '₹300'},\n",
       " {'test_title': 'Insulin Fasting Blood',\n",
       "  'test_desc': 'Known as Insulin Fasting Blood',\n",
       "  'test_price': '₹500'},\n",
       " {'test_title': 'Fasting Blood Sugar',\n",
       "  'test_desc': 'Known as Glucose Fasting Blood',\n",
       "  'test_price': '₹150'},\n",
       " {'test_title': 'Lipid Profile',\n",
       "  'test_desc': 'Known as Lipid Profile Blood',\n",
       "  'test_price': '₹400'},\n",
       " {'test_title': 'Random Blood Sugar',\n",
       "  'test_desc': 'Known as Glucose Random Blood',\n",
       "  'test_price': '₹150'},\n",
       " {'test_title': 'C Peptide Blood',\n",
       "  'test_desc': 'Known as C Peptide Random Blood',\n",
       "  'test_price': '₹500'},\n",
       " {'test_title': 'Thyroid Profile (T3, T4, TSH)',\n",
       "  'test_desc': 'Known as Thyroid Profile Total Blood',\n",
       "  'test_price': '₹400'},\n",
       " {'test_title': 'Post Prandial Blood Sugar',\n",
       "  'test_desc': 'Known as Glucose Post Prandial Blood',\n",
       "  'test_price': '₹150'},\n",
       " {'test_title': 'Liver Function Test',\n",
       "  'test_desc': 'Known as Liver Function Tests Blood',\n",
       "  'test_price': '₹400'},\n",
       " {'test_title': 'Complete Blood Picture (CBP)',\n",
       "  'test_desc': 'Known as Complete Blood Count Automated Blood',\n",
       "  'test_price': '₹300'}]"
      ]
     },
     "execution_count": 47,
     "metadata": {},
     "output_type": "execute_result"
    }
   ],
   "source": [
    "test_result"
   ]
  },
  {
   "cell_type": "code",
   "execution_count": 48,
   "metadata": {},
   "outputs": [
    {
     "data": {
      "text/plain": [
       "[{'package_title': \"Advanced Diabetic Patient's Health Checkup\",\n",
       "  'package_desc': 'Ideal for individuals aged 35 - 85 years',\n",
       "  'package_tests': '89 tests included',\n",
       "  'package_offer_price': '₹3599',\n",
       "  'package_mrp_price': '₹5000',\n",
       "  'package_price_discount': '28% off'},\n",
       " {'package_title': 'Advanced Diabetic Screening Checkup',\n",
       "  'package_desc': 'Ideal for individuals aged 35 - 85 years',\n",
       "  'package_tests': '70 tests included',\n",
       "  'package_offer_price': '₹2199',\n",
       "  'package_mrp_price': '₹3000',\n",
       "  'package_price_discount': '27% off'},\n",
       " {'package_title': 'Basic Diabetic Screening Checkup',\n",
       "  'package_desc': 'Ideal for individuals aged 20 - 40 years',\n",
       "  'package_tests': '66 tests included',\n",
       "  'package_offer_price': '₹1599',\n",
       "  'package_mrp_price': '₹2000',\n",
       "  'package_price_discount': '20% off'},\n",
       " {'package_title': \"Diabetic Patient's Health Checkup\",\n",
       "  'package_desc': 'Ideal for individuals aged 35 - 85 years',\n",
       "  'package_tests': '77 tests included',\n",
       "  'package_offer_price': '₹2799',\n",
       "  'package_mrp_price': '₹4000',\n",
       "  'package_price_discount': '30% off'}]"
      ]
     },
     "execution_count": 48,
     "metadata": {},
     "output_type": "execute_result"
    }
   ],
   "source": [
    "package_result"
   ]
  },
  {
   "cell_type": "code",
   "execution_count": 55,
   "metadata": {},
   "outputs": [],
   "source": [
    "df=pd.DataFrame(test_result)\n",
    "df.index=df.index+1\n",
    "df.to_csv(\"tests.csv\",index=True,index_label='Serial_no')"
   ]
  },
  {
   "cell_type": "code",
   "execution_count": 56,
   "metadata": {},
   "outputs": [
    {
     "data": {
      "text/html": [
       "<div>\n",
       "<style scoped>\n",
       "    .dataframe tbody tr th:only-of-type {\n",
       "        vertical-align: middle;\n",
       "    }\n",
       "\n",
       "    .dataframe tbody tr th {\n",
       "        vertical-align: top;\n",
       "    }\n",
       "\n",
       "    .dataframe thead th {\n",
       "        text-align: right;\n",
       "    }\n",
       "</style>\n",
       "<table border=\"1\" class=\"dataframe\">\n",
       "  <thead>\n",
       "    <tr style=\"text-align: right;\">\n",
       "      <th></th>\n",
       "      <th>test_title</th>\n",
       "      <th>test_desc</th>\n",
       "      <th>test_price</th>\n",
       "    </tr>\n",
       "  </thead>\n",
       "  <tbody>\n",
       "    <tr>\n",
       "      <th>1</th>\n",
       "      <td>HbA1c</td>\n",
       "      <td>Known as Glycosylated Haemoglobin Blood</td>\n",
       "      <td>₹300</td>\n",
       "    </tr>\n",
       "    <tr>\n",
       "      <th>2</th>\n",
       "      <td>Insulin Fasting Blood</td>\n",
       "      <td>Known as Insulin Fasting Blood</td>\n",
       "      <td>₹500</td>\n",
       "    </tr>\n",
       "    <tr>\n",
       "      <th>3</th>\n",
       "      <td>Fasting Blood Sugar</td>\n",
       "      <td>Known as Glucose Fasting Blood</td>\n",
       "      <td>₹150</td>\n",
       "    </tr>\n",
       "    <tr>\n",
       "      <th>4</th>\n",
       "      <td>Lipid Profile</td>\n",
       "      <td>Known as Lipid Profile Blood</td>\n",
       "      <td>₹400</td>\n",
       "    </tr>\n",
       "    <tr>\n",
       "      <th>5</th>\n",
       "      <td>Random Blood Sugar</td>\n",
       "      <td>Known as Glucose Random Blood</td>\n",
       "      <td>₹150</td>\n",
       "    </tr>\n",
       "    <tr>\n",
       "      <th>6</th>\n",
       "      <td>C Peptide Blood</td>\n",
       "      <td>Known as C Peptide Random Blood</td>\n",
       "      <td>₹500</td>\n",
       "    </tr>\n",
       "    <tr>\n",
       "      <th>7</th>\n",
       "      <td>Thyroid Profile (T3, T4, TSH)</td>\n",
       "      <td>Known as Thyroid Profile Total Blood</td>\n",
       "      <td>₹400</td>\n",
       "    </tr>\n",
       "    <tr>\n",
       "      <th>8</th>\n",
       "      <td>Post Prandial Blood Sugar</td>\n",
       "      <td>Known as Glucose Post Prandial Blood</td>\n",
       "      <td>₹150</td>\n",
       "    </tr>\n",
       "    <tr>\n",
       "      <th>9</th>\n",
       "      <td>Liver Function Test</td>\n",
       "      <td>Known as Liver Function Tests Blood</td>\n",
       "      <td>₹400</td>\n",
       "    </tr>\n",
       "    <tr>\n",
       "      <th>10</th>\n",
       "      <td>Complete Blood Picture (CBP)</td>\n",
       "      <td>Known as Complete Blood Count Automated Blood</td>\n",
       "      <td>₹300</td>\n",
       "    </tr>\n",
       "  </tbody>\n",
       "</table>\n",
       "</div>"
      ],
      "text/plain": [
       "                       test_title  \\\n",
       "1                           HbA1c   \n",
       "2           Insulin Fasting Blood   \n",
       "3             Fasting Blood Sugar   \n",
       "4                   Lipid Profile   \n",
       "5              Random Blood Sugar   \n",
       "6                 C Peptide Blood   \n",
       "7   Thyroid Profile (T3, T4, TSH)   \n",
       "8       Post Prandial Blood Sugar   \n",
       "9             Liver Function Test   \n",
       "10   Complete Blood Picture (CBP)   \n",
       "\n",
       "                                        test_desc test_price  \n",
       "1         Known as Glycosylated Haemoglobin Blood       ₹300  \n",
       "2                  Known as Insulin Fasting Blood       ₹500  \n",
       "3                  Known as Glucose Fasting Blood       ₹150  \n",
       "4                    Known as Lipid Profile Blood       ₹400  \n",
       "5                   Known as Glucose Random Blood       ₹150  \n",
       "6                 Known as C Peptide Random Blood       ₹500  \n",
       "7            Known as Thyroid Profile Total Blood       ₹400  \n",
       "8            Known as Glucose Post Prandial Blood       ₹150  \n",
       "9             Known as Liver Function Tests Blood       ₹400  \n",
       "10  Known as Complete Blood Count Automated Blood       ₹300  "
      ]
     },
     "execution_count": 56,
     "metadata": {},
     "output_type": "execute_result"
    }
   ],
   "source": [
    "df"
   ]
  },
  {
   "cell_type": "code",
   "execution_count": 59,
   "metadata": {},
   "outputs": [],
   "source": [
    "new=pd.DataFrame(package_result)\n",
    "new.index=new.index+1\n",
    "new.to_csv(\"packages.csv\",index=True,index_label='Serial_no')"
   ]
  },
  {
   "cell_type": "code",
   "execution_count": 61,
   "metadata": {},
   "outputs": [
    {
     "data": {
      "text/html": [
       "<div>\n",
       "<style scoped>\n",
       "    .dataframe tbody tr th:only-of-type {\n",
       "        vertical-align: middle;\n",
       "    }\n",
       "\n",
       "    .dataframe tbody tr th {\n",
       "        vertical-align: top;\n",
       "    }\n",
       "\n",
       "    .dataframe thead th {\n",
       "        text-align: right;\n",
       "    }\n",
       "</style>\n",
       "<table border=\"1\" class=\"dataframe\">\n",
       "  <thead>\n",
       "    <tr style=\"text-align: right;\">\n",
       "      <th></th>\n",
       "      <th>package_title</th>\n",
       "      <th>package_desc</th>\n",
       "      <th>package_tests</th>\n",
       "      <th>package_offer_price</th>\n",
       "      <th>package_mrp_price</th>\n",
       "      <th>package_price_discount</th>\n",
       "    </tr>\n",
       "  </thead>\n",
       "  <tbody>\n",
       "    <tr>\n",
       "      <th>1</th>\n",
       "      <td>Advanced Diabetic Patient's Health Checkup</td>\n",
       "      <td>Ideal for individuals aged 35 - 85 years</td>\n",
       "      <td>89 tests included</td>\n",
       "      <td>₹3599</td>\n",
       "      <td>₹5000</td>\n",
       "      <td>28% off</td>\n",
       "    </tr>\n",
       "    <tr>\n",
       "      <th>2</th>\n",
       "      <td>Advanced Diabetic Screening Checkup</td>\n",
       "      <td>Ideal for individuals aged 35 - 85 years</td>\n",
       "      <td>70 tests included</td>\n",
       "      <td>₹2199</td>\n",
       "      <td>₹3000</td>\n",
       "      <td>27% off</td>\n",
       "    </tr>\n",
       "    <tr>\n",
       "      <th>3</th>\n",
       "      <td>Basic Diabetic Screening Checkup</td>\n",
       "      <td>Ideal for individuals aged 20 - 40 years</td>\n",
       "      <td>66 tests included</td>\n",
       "      <td>₹1599</td>\n",
       "      <td>₹2000</td>\n",
       "      <td>20% off</td>\n",
       "    </tr>\n",
       "    <tr>\n",
       "      <th>4</th>\n",
       "      <td>Diabetic Patient's Health Checkup</td>\n",
       "      <td>Ideal for individuals aged 35 - 85 years</td>\n",
       "      <td>77 tests included</td>\n",
       "      <td>₹2799</td>\n",
       "      <td>₹4000</td>\n",
       "      <td>30% off</td>\n",
       "    </tr>\n",
       "  </tbody>\n",
       "</table>\n",
       "</div>"
      ],
      "text/plain": [
       "                                package_title  \\\n",
       "1  Advanced Diabetic Patient's Health Checkup   \n",
       "2         Advanced Diabetic Screening Checkup   \n",
       "3            Basic Diabetic Screening Checkup   \n",
       "4           Diabetic Patient's Health Checkup   \n",
       "\n",
       "                               package_desc      package_tests  \\\n",
       "1  Ideal for individuals aged 35 - 85 years  89 tests included   \n",
       "2  Ideal for individuals aged 35 - 85 years  70 tests included   \n",
       "3  Ideal for individuals aged 20 - 40 years  66 tests included   \n",
       "4  Ideal for individuals aged 35 - 85 years  77 tests included   \n",
       "\n",
       "  package_offer_price package_mrp_price package_price_discount  \n",
       "1               ₹3599             ₹5000                28% off  \n",
       "2               ₹2199             ₹3000                27% off  \n",
       "3               ₹1599             ₹2000                20% off  \n",
       "4               ₹2799             ₹4000                30% off  "
      ]
     },
     "execution_count": 61,
     "metadata": {},
     "output_type": "execute_result"
    }
   ],
   "source": [
    "new"
   ]
  },
  {
   "cell_type": "code",
   "execution_count": 62,
   "metadata": {},
   "outputs": [],
   "source": [
    "browser.close()"
   ]
  },
  {
   "cell_type": "code",
   "execution_count": null,
   "metadata": {},
   "outputs": [],
   "source": []
  }
 ],
 "metadata": {
  "kernelspec": {
   "display_name": "Python 3",
   "language": "python",
   "name": "python3"
  },
  "language_info": {
   "codemirror_mode": {
    "name": "ipython",
    "version": 3
   },
   "file_extension": ".py",
   "mimetype": "text/x-python",
   "name": "python",
   "nbconvert_exporter": "python",
   "pygments_lexer": "ipython3",
   "version": "3.8.3"
  }
 },
 "nbformat": 4,
 "nbformat_minor": 4
}
